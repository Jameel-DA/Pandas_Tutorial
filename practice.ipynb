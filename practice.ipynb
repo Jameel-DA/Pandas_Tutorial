{
 "cells": [
  {
   "cell_type": "code",
   "execution_count": null,
   "metadata": {},
   "outputs": [],
   "source": [
    "# creating a series from array\n",
    "import numpy as np \n",
    "import pandas as pd\n",
    "\n",
    "arr = np.random.randint(1,50,10)\n",
    "s = pd.Series(arr)\n",
    "s"
   ]
  },
  {
   "cell_type": "code",
   "execution_count": null,
   "metadata": {},
   "outputs": [],
   "source": [
    "# We can create a Series in two ways:\n",
    "# 1. Create an empty Series\n",
    "# 2. Create a Series using inputs.\n",
    "\n",
    "s = pd.Series()\n",
    "print(type(s))\n",
    "s"
   ]
  },
  {
   "cell_type": "code",
   "execution_count": null,
   "metadata": {},
   "outputs": [],
   "source": [
    "# create series from array\n",
    "a = np.array(['p','a','n','d','a','s'])\n",
    "s = pd.Series(a)\n",
    "s"
   ]
  },
  {
   "cell_type": "code",
   "execution_count": null,
   "metadata": {},
   "outputs": [],
   "source": [
    "# create a series from dictionary\n",
    "d = {\n",
    "    1 : \"one\",\n",
    "    2 : \"two\",\n",
    "    3 : \"three\"\n",
    "}\n",
    "s = pd.Series(d)"
   ]
  },
  {
   "cell_type": "code",
   "execution_count": null,
   "metadata": {},
   "outputs": [],
   "source": [
    "# create a series using scalar\n",
    "s = pd.Series(['p','a','n','d','a','s'], index=[0,1,2,3,4,5])\n",
    "s"
   ]
  },
  {
   "cell_type": "code",
   "execution_count": null,
   "metadata": {},
   "outputs": [],
   "source": [
    "# Series Object Attributes\n",
    "print(\"Defines the index of the Series. : \",s.index)\n",
    "print(\"It returns a tuple of shape of the data. : \",s.shape)\n",
    "print(\"It returns the data type of the data. : \",s.dtype)\n",
    "print(\"It returns the size of the data. : \",s.size)\n",
    "print(\"It returns True if Series object is empty, otherwise returns false. : \",s.empty)\n",
    "print('It returns the number of dimensions in the data. :',s.ndim)\n",
    "print(\"items of Series : \",s.items)\n",
    "print(\"It returns True if there are any NaN values, otherwise returns false. : \",s.hasnans)\n",
    "print(\"It returns the number of bytes in the data. : \",s.nbytes)"
   ]
  },
  {
   "cell_type": "code",
   "execution_count": null,
   "metadata": {},
   "outputs": [],
   "source": [
    "# We can create a DataFrame using following ways:\n",
    "#  dict\n",
    "#  Lists\n",
    "#  Numpy ndarrrays\n",
    "#  Series\n",
    "\n",
    "# Create an empty DataFrame\n",
    "df = pd.DataFrame()\n",
    "print(df)"
   ]
  },
  {
   "cell_type": "code",
   "execution_count": null,
   "metadata": {},
   "outputs": [],
   "source": [
    "# Create a DataFrame using List:\n",
    "l = ['Python','Pandas']\n",
    "df = pd.DataFrame(l)\n",
    "df"
   ]
  },
  {
   "cell_type": "code",
   "execution_count": null,
   "metadata": {},
   "outputs": [],
   "source": [
    "# Create a DataFrame from Dict of ndarrays / Lists\n",
    "di = {\n",
    "    'Id' : [101,102,103,104],\n",
    "    'Department' : ['Bsc','BCA', 'B.Tech', 'BBA']\n",
    "}\n",
    "df = pd.DataFrame(di)\n",
    "df"
   ]
  },
  {
   "cell_type": "code",
   "execution_count": null,
   "metadata": {},
   "outputs": [],
   "source": [
    "# Create a DataFrame from Dict of Series:\n",
    "info = {'one' : pd.Series(data=[1, 2, 3, 4, 5, 6], index=['a', 'b', 'c', 'd', 'e', 'f']),\n",
    " 'two' : pd.Series(data=[1, 2, 3, 4, 5, 6, 7, 8], index=['a', 'b', 'c', 'd', 'e', 'f', 'g', 'h'])}\n",
    "\n",
    "d1 = pd.DataFrame(info)\n",
    "print (d1)"
   ]
  },
  {
   "cell_type": "code",
   "execution_count": null,
   "metadata": {},
   "outputs": [],
   "source": [
    "# Column Selection\n",
    "di = {\n",
    "    'one' : pd.Series(data=['j','o','y'],index=[0,1,2]),\n",
    "    'two' : pd.Series(data=['r','o','y'],index=[0,1,2])\n",
    "}\n",
    "df = pd.DataFrame(di)\n",
    "print(df['two'])"
   ]
  },
  {
   "cell_type": "code",
   "execution_count": null,
   "metadata": {},
   "outputs": [],
   "source": [
    "# Column Addition\n",
    "di = {\n",
    "    'one' : pd.Series(data=['j','o','y'],index=[0,1,2])\n",
    "}\n",
    "df = pd.DataFrame(di)\n",
    "df['two'] = pd.Series(data=['r','o','y'],index=[0,1,2])\n",
    "df"
   ]
  },
  {
   "cell_type": "code",
   "execution_count": null,
   "metadata": {},
   "outputs": [],
   "source": [
    "# Column Deletion\n",
    "di = {\n",
    "    'Id' : [101,102,103,104],\n",
    "    'Department' : ['Bsc','BCA', 'B.Tech', 'BBA']\n",
    "}\n",
    "df = pd.DataFrame(di)\n",
    "del di['Id']                                                \n",
    "print(di)"
   ]
  },
  {
   "cell_type": "code",
   "execution_count": null,
   "metadata": {},
   "outputs": [],
   "source": [
    "# Row Selection\n",
    "di = {\n",
    "    'Id' : [101,102,103,104],\n",
    "    'Department' : ['BSC','BCA', 'B.Tech', 'BBA']\n",
    "}\n",
    "df = pd.DataFrame(di)\n",
    "\n",
    "print(df.iloc[1])"
   ]
  },
  {
   "cell_type": "code",
   "execution_count": null,
   "metadata": {},
   "outputs": [],
   "source": [
    "# row deletion\n",
    "a_info = pd.DataFrame([[4, 5], [6, 7]], columns = ['x','y'])\n",
    "b_info = pd.DataFrame([[8, 9], [10, 11]], columns = ['x','y'])\n",
    "# a_info = a_info.append(b_info)\n",
    "a_info = a_info.drop(0)\n",
    "print(a_info)  "
   ]
  },
  {
   "cell_type": "code",
   "execution_count": null,
   "metadata": {},
   "outputs": [],
   "source": [
    "# Pandas DataFrame.append()\n",
    "\n",
    "import pandas as pd\n",
    "\n",
    "# Create two DataFrames\n",
    "df1 = pd.DataFrame({'A': [1, 2], 'B': [3, 4]})\n",
    "df2 = pd.DataFrame({'A': [5, 6], 'B': [7, 8]})\n",
    "\n",
    "# Append df2 to df1\n",
    "# result = df1.append(df2, ignore_index=True)\n",
    "\n",
    "# print(result)\n",
    "\n",
    "# Updated Approach with concat:\n",
    "\n",
    "import pandas as pd\n",
    "\n",
    "# Create two DataFrames\n",
    "df1 = pd.DataFrame({'A': [1, 2], 'B': [3, 4]})\n",
    "df2 = pd.DataFrame({'A': [5, 6], 'B': [7, 8]})\n",
    "\n",
    "# Concatenate df1 and df2\n",
    "result = pd.concat([df1, df2], ignore_index=True)\n",
    "\n",
    "print(result)\n"
   ]
  },
  {
   "cell_type": "code",
   "execution_count": null,
   "metadata": {},
   "outputs": [],
   "source": [
    "# how to import excel and csv file \n",
    "import pandas as pd\n",
    "titanic = pd.read_csv('titanic.csv')\n",
    "titanic"
   ]
  },
  {
   "cell_type": "code",
   "execution_count": null,
   "metadata": {},
   "outputs": [],
   "source": [
    "# Head method is used for filtering starting rows, bydefault it returns 5 rows, and maximum 60 rows\n",
    "titanic = titanic.head(10)\n",
    "titanic"
   ]
  },
  {
   "cell_type": "code",
   "execution_count": null,
   "metadata": {},
   "outputs": [],
   "source": [
    "# Tail method is used for filtering last rows.\n",
    "titanic.tail()"
   ]
  },
  {
   "cell_type": "code",
   "execution_count": null,
   "metadata": {},
   "outputs": [],
   "source": [
    "titanic.describe()\n",
    "titanic.info()"
   ]
  },
  {
   "cell_type": "code",
   "execution_count": null,
   "metadata": {},
   "outputs": [],
   "source": [
    "# How to access all column\n",
    "df = titanic\n",
    "df.columns"
   ]
  },
  {
   "cell_type": "code",
   "execution_count": null,
   "metadata": {},
   "outputs": [],
   "source": [
    "# How to drop columns\n",
    "df = df.drop(columns=['survived', 'pclass', 'sibsp', 'parch', \n",
    "       'embarked', 'who', 'adult_male', 'deck',\n",
    "       'alive', 'alone'])"
   ]
  },
  {
   "cell_type": "code",
   "execution_count": null,
   "metadata": {},
   "outputs": [],
   "source": [
    "# How to add new column\n",
    "df['age_twice'] = df['age']*2\n",
    "df"
   ]
  },
  {
   "cell_type": "code",
   "execution_count": null,
   "metadata": {},
   "outputs": [],
   "source": [
    "# How to rename column\n",
    "df.rename(columns={'sex':'gender'},inplace=True)\n",
    "df"
   ]
  },
  {
   "cell_type": "code",
   "execution_count": null,
   "metadata": {},
   "outputs": [],
   "source": [
    "# Statical Functions in Pandas\n",
    "\n",
    "# mean(average)\n",
    "print(df.fare.mean())\n",
    "\n",
    "# median\n",
    "print(df.fare.median())\n",
    "\n",
    "# mode\n",
    "print(df.gender.mode())\n",
    "\n",
    "# max\n",
    "print(df.fare.max())\n",
    "\n",
    "# min\n",
    "print(df.fare.min())\n",
    "\n",
    "# sum\n",
    "print(df.fare.sum())\n",
    "\n",
    "# count\n",
    "print(df.fare.count())\n",
    "\n",
    "# values_count\n",
    "print(df.gender.value_counts())\n",
    "\n",
    "# unique\n",
    "print(df.gender.unique())\n"
   ]
  },
  {
   "cell_type": "code",
   "execution_count": null,
   "metadata": {},
   "outputs": [],
   "source": [
    "# Sorting (sort values, sort index)\n",
    "df['age'].sort_values()\n",
    "df['age'].sort_index()"
   ]
  },
  {
   "cell_type": "code",
   "execution_count": null,
   "metadata": {},
   "outputs": [],
   "source": [
    "# How to find null values\n",
    "df = pd.read_clipboard()\n",
    "df.isna().sum()\n",
    "df.isna().mean()\n",
    "df.info()"
   ]
  },
  {
   "cell_type": "code",
   "execution_count": null,
   "metadata": {},
   "outputs": [],
   "source": [
    "# How to drop all null values\n",
    "df.dropna(how='all')\n",
    "df.dropna(thresh=4,axis=0,ignore_index=True)\n",
    "df"
   ]
  },
  {
   "cell_type": "code",
   "execution_count": null,
   "metadata": {},
   "outputs": [],
   "source": [
    "# How to fill null values\n",
    "df.Salary.mean()\n",
    "df['Salary'].fillna(54666.666666666664,inplace=True)\n",
    "df['Salary']"
   ]
  },
  {
   "cell_type": "code",
   "execution_count": null,
   "metadata": {},
   "outputs": [],
   "source": [
    "# How to fill up and down\n",
    "df['Department'].fillna(method='ffill', inplace=True)\n",
    "df['LastName'].fillna(method='bfill', inplace=True)"
   ]
  },
  {
   "cell_type": "code",
   "execution_count": null,
   "metadata": {},
   "outputs": [],
   "source": [
    "# how to find duplicates and drop all duplicates\n",
    "df = pd.read_clipboard()\n",
    "df.duplicated()\n",
    "df.drop_duplicates()\n",
    "df"
   ]
  },
  {
   "cell_type": "code",
   "execution_count": null,
   "metadata": {},
   "outputs": [],
   "source": [
    "# How to replace value\n",
    "df['Salary'].replace({60000.0:50000.0},inplace=True,limit=1)\n",
    "df"
   ]
  },
  {
   "cell_type": "code",
   "execution_count": null,
   "metadata": {},
   "outputs": [],
   "source": [
    "# Apply method in pandas\n",
    "\n",
    "# how to convert column into upper case\n",
    "df['FirstName'] = df['FirstName'].apply(func=str.upper)\n",
    "df['LastName2'] = df['LastName'].apply(func=str.upper)\n",
    "df"
   ]
  },
  {
   "cell_type": "code",
   "execution_count": null,
   "metadata": {},
   "outputs": [],
   "source": [
    "info = pd.DataFrame([[2, 7]] * 4, columns=['P', 'Q'])\n",
    "info.apply(np.sqrt)\n",
    "info.apply(np.sum, axis=0)\n",
    "info.apply(np.sum, axis=1)\n",
    "info.apply(lambda x: [1, 2], axis=1)\n",
    "info.apply(lambda x: [1, 2], axis=1, result_type='expand')\n",
    "info.apply(lambda x: pd.Series([1, 2], index=['foo', 'bar']), axis=1)"
   ]
  },
  {
   "cell_type": "code",
   "execution_count": null,
   "metadata": {},
   "outputs": [],
   "source": [
    "import pandas as pd \n",
    "df = pd.read_csv('titanic.csv')\n",
    "df = df.head(10)\n",
    "df.drop(columns=['survived', 'pclass', 'sibsp', 'parch',\n",
    "       'embarked','who', 'adult_male', 'deck',\n",
    "       'alive', 'alone'],inplace=True)\n",
    "\n",
    "def age_classification(age):\n",
    "    if age < 18:\n",
    "        return 'Child'\n",
    "    elif age < 50:\n",
    "        return 'Adult'\n",
    "    else:\n",
    "        return 'Senior Cititzen'\n",
    "df['age_category'] = df['age'].apply(func=age_classification)   \n",
    "\n",
    "df"
   ]
  },
  {
   "cell_type": "code",
   "execution_count": null,
   "metadata": {},
   "outputs": [],
   "source": [
    "# Pivot Table \n",
    "df.pivot_table(index='sex', aggfunc={'fare':'sum'})\n",
    "df.pivot_table(index=['age_category','class'], aggfunc={'fare':'sum'})\n",
    "df.pivot_table(index=['embark_town','sex'],aggfunc={'fare':'sum','age':'mean'})\n"
   ]
  },
  {
   "cell_type": "code",
   "execution_count": null,
   "metadata": {},
   "outputs": [],
   "source": [
    "# filtering in pandas\n",
    "con = df[(df['embark_town'] == 'Southampton') & (df['age'] >= 25)]\n",
    "con"
   ]
  },
  {
   "cell_type": "code",
   "execution_count": null,
   "metadata": {},
   "outputs": [],
   "source": [
    "# How to change datatype in pandas\n",
    "df['age'] = df['age'].astype(object)\n",
    "df.info()"
   ]
  },
  {
   "cell_type": "code",
   "execution_count": null,
   "metadata": {},
   "outputs": [],
   "source": [
    "# Joins in  Pandas\n",
    "emp = pd.read_clipboard()\n",
    "emp"
   ]
  },
  {
   "cell_type": "code",
   "execution_count": null,
   "metadata": {},
   "outputs": [],
   "source": [
    "salaries = pd.read_clipboard()\n",
    "salaries"
   ]
  },
  {
   "cell_type": "code",
   "execution_count": null,
   "metadata": {},
   "outputs": [],
   "source": [
    "emp.merge(salaries)"
   ]
  },
  {
   "cell_type": "code",
   "execution_count": null,
   "metadata": {},
   "outputs": [],
   "source": [
    "# left Join\n",
    "emp.merge(salaries,how='left')"
   ]
  },
  {
   "cell_type": "code",
   "execution_count": null,
   "metadata": {},
   "outputs": [],
   "source": [
    "#right join\n",
    "emp.merge(salaries,how='right')"
   ]
  },
  {
   "cell_type": "code",
   "execution_count": null,
   "metadata": {},
   "outputs": [],
   "source": [
    "#inner join\n",
    "emp.merge(salaries,how='inner')"
   ]
  },
  {
   "cell_type": "code",
   "execution_count": null,
   "metadata": {},
   "outputs": [],
   "source": [
    "#outer join\n",
    "emp.merge(salaries,how='outer')"
   ]
  },
  {
   "cell_type": "code",
   "execution_count": null,
   "metadata": {},
   "outputs": [],
   "source": [
    "# cross join\n",
    "emp.merge(salaries,how='cross')"
   ]
  },
  {
   "cell_type": "code",
   "execution_count": null,
   "metadata": {},
   "outputs": [],
   "source": [
    "# How to extract day, month, year in the date\n",
    "emp = pd.read_clipboard()\n",
    "\n",
    "emp['DOB'] = pd.to_datetime(emp['DOB'])\n",
    "\n",
    "emp['Day'] = emp['DOB'].dt.day\n",
    "emp['Month'] = emp['DOB'].dt.month\n",
    "emp['Year'] = emp['DOB'].dt.year\n",
    "emp"
   ]
  }
 ],
 "metadata": {
  "kernelspec": {
   "display_name": "Python 3",
   "language": "python",
   "name": "python3"
  },
  "language_info": {
   "codemirror_mode": {
    "name": "ipython",
    "version": 3
   },
   "file_extension": ".py",
   "mimetype": "text/x-python",
   "name": "python",
   "nbconvert_exporter": "python",
   "pygments_lexer": "ipython3",
   "version": "3.13.0"
  }
 },
 "nbformat": 4,
 "nbformat_minor": 2
}
